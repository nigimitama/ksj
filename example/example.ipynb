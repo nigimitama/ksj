{
 "cells": [
  {
   "cell_type": "markdown",
   "metadata": {},
   "source": [
    "# kokudo-suuchi-jouhouの使用例"
   ]
  },
  {
   "cell_type": "code",
   "execution_count": 1,
   "metadata": {},
   "outputs": [],
   "source": [
    "# import時はksjと書いてください\n",
    "import ksj"
   ]
  },
  {
   "cell_type": "markdown",
   "metadata": {},
   "source": [
    "## 国土数値情報の概要情報取得\n",
    "\n",
    "国土数値情報APIで取得できるデータの一覧と、その識別子（identifier）やareaTypeなどの情報を確認できます。"
   ]
  },
  {
   "cell_type": "code",
   "execution_count": 2,
   "metadata": {},
   "outputs": [
    {
     "data": {
      "text/html": "<div>\n<style scoped>\n    .dataframe tbody tr th:only-of-type {\n        vertical-align: middle;\n    }\n\n    .dataframe tbody tr th {\n        vertical-align: top;\n    }\n\n    .dataframe thead th {\n        text-align: right;\n    }\n</style>\n<table border=\"1\" class=\"dataframe\">\n  <thead>\n    <tr style=\"text-align: right;\">\n      <th></th>\n      <th>identifier</th>\n      <th>title</th>\n      <th>field1</th>\n      <th>field2</th>\n      <th>areaType</th>\n    </tr>\n  </thead>\n  <tbody>\n    <tr>\n      <th>0</th>\n      <td>A03</td>\n      <td>三大都市圏計画区域</td>\n      <td>政策区域</td>\n      <td>大都市圏</td>\n      <td>2</td>\n    </tr>\n    <tr>\n      <th>1</th>\n      <td>A09</td>\n      <td>都市地域</td>\n      <td>国土（水・土地）</td>\n      <td>土地利用</td>\n      <td>3</td>\n    </tr>\n    <tr>\n      <th>2</th>\n      <td>A10</td>\n      <td>自然公園地域</td>\n      <td>地域</td>\n      <td>保護保全</td>\n      <td>3</td>\n    </tr>\n    <tr>\n      <th>3</th>\n      <td>A11</td>\n      <td>自然保全地域</td>\n      <td>地域</td>\n      <td>保護保全</td>\n      <td>3</td>\n    </tr>\n    <tr>\n      <th>4</th>\n      <td>A12</td>\n      <td>農業地域</td>\n      <td>国土（水・土地）</td>\n      <td>土地利用</td>\n      <td>3</td>\n    </tr>\n  </tbody>\n</table>\n</div>",
      "text/plain": "  identifier      title    field1 field2 areaType\n0        A03  三大都市圏計画区域      政策区域   大都市圏        2\n1        A09       都市地域  国土（水・土地）   土地利用        3\n2        A10     自然公園地域        地域   保護保全        3\n3        A11     自然保全地域        地域   保護保全        3\n4        A12       農業地域  国土（水・土地）   土地利用        3"
     },
     "execution_count": 2,
     "metadata": {},
     "output_type": "execute_result"
    }
   ],
   "source": [
    "# 国土数値情報APIでダウンロードできるファイル概要\n",
    "ksj_summary = ksj.get_summary()\n",
    "ksj_summary.head()"
   ]
  },
  {
   "cell_type": "markdown",
   "metadata": {},
   "source": [
    "## 国土数値情報のURL情報取得\n",
    "\n",
    "国土数値情報のshapefileが入ったzipファイルのURLを取得することができます。\n",
    "\n",
    "パラメータの意味についての詳細は[APIのドキュメント](http://nlftp.mlit.go.jp/ksj/api/specification_api_ksj.pdf)でご確認ください。\n",
    "\n",
    "\n",
    "```\n",
    "get_url(identifier: str, pref_code=None, mesh_code=None,\n",
    "            metro_area=None, fiscal_year=None) -> pd.DataFrame:\n",
    "Parameters\n",
    "----------\n",
    "identifier : str\n",
    "    ファイルの識別子（例：「地価公示」なら'L01'）\n",
    "pref_code : str, int\n",
    "    都道府県コード（例：13, '11,12', '11-14'）\n",
    "mesh_code : str, int\n",
    "    メッシュコード。areaType=4の場合のみ有効。（例：5340）\n",
    "metro_area : str, int\n",
    "    都市圏コード。areaType=2の場合のみ有効。（例：100）\n",
    "fiscal_year : str, int\n",
    "    年度。（例：2017, '2015,2019', '2014-2016'）\n",
    "\n",
    "Returns\n",
    "-------\n",
    "pandas.DataFrame\n",
    "    データの情報とzipファイルのURLが入ったデータフレーム\n",
    "```"
   ]
  },
  {
   "cell_type": "code",
   "execution_count": 3,
   "metadata": {},
   "outputs": [
    {
     "data": {
      "text/html": "<div>\n<style scoped>\n    .dataframe tbody tr th:only-of-type {\n        vertical-align: middle;\n    }\n\n    .dataframe tbody tr th {\n        vertical-align: top;\n    }\n\n    .dataframe thead th {\n        text-align: right;\n    }\n</style>\n<table border=\"1\" class=\"dataframe\">\n  <thead>\n    <tr style=\"text-align: right;\">\n      <th></th>\n      <th>identifier</th>\n      <th>title</th>\n      <th>field</th>\n      <th>year</th>\n      <th>areaType</th>\n      <th>areaCode</th>\n      <th>datum</th>\n      <th>zipFileUrl</th>\n      <th>zipFileSize</th>\n    </tr>\n  </thead>\n  <tbody>\n    <tr>\n      <th>0</th>\n      <td>N03</td>\n      <td>行政区域</td>\n      <td>政策区域</td>\n      <td>2019</td>\n      <td>3</td>\n      <td>11</td>\n      <td>1</td>\n      <td>http://nlftp.mlit.go.jp/ksj/gml/data/N03/N03-2...</td>\n      <td>3.54MB</td>\n    </tr>\n    <tr>\n      <th>1</th>\n      <td>N03</td>\n      <td>行政区域</td>\n      <td>政策区域</td>\n      <td>2019</td>\n      <td>3</td>\n      <td>12</td>\n      <td>1</td>\n      <td>http://nlftp.mlit.go.jp/ksj/gml/data/N03/N03-2...</td>\n      <td>6.17MB</td>\n    </tr>\n    <tr>\n      <th>2</th>\n      <td>N03</td>\n      <td>行政区域</td>\n      <td>政策区域</td>\n      <td>2019</td>\n      <td>3</td>\n      <td>13</td>\n      <td>1</td>\n      <td>http://nlftp.mlit.go.jp/ksj/gml/data/N03/N03-2...</td>\n      <td>12.20MB</td>\n    </tr>\n    <tr>\n      <th>3</th>\n      <td>N03</td>\n      <td>行政区域</td>\n      <td>政策区域</td>\n      <td>2019</td>\n      <td>3</td>\n      <td>14</td>\n      <td>1</td>\n      <td>http://nlftp.mlit.go.jp/ksj/gml/data/N03/N03-2...</td>\n      <td>5.22MB</td>\n    </tr>\n  </tbody>\n</table>\n</div>",
      "text/plain": "  identifier title field  year areaType areaCode datum  \\\n0        N03  行政区域  政策区域  2019        3       11     1   \n1        N03  行政区域  政策区域  2019        3       12     1   \n2        N03  行政区域  政策区域  2019        3       13     1   \n3        N03  行政区域  政策区域  2019        3       14     1   \n\n                                          zipFileUrl zipFileSize  \n0  http://nlftp.mlit.go.jp/ksj/gml/data/N03/N03-2...      3.54MB  \n1  http://nlftp.mlit.go.jp/ksj/gml/data/N03/N03-2...      6.17MB  \n2  http://nlftp.mlit.go.jp/ksj/gml/data/N03/N03-2...     12.20MB  \n3  http://nlftp.mlit.go.jp/ksj/gml/data/N03/N03-2...      5.22MB  "
     },
     "execution_count": 3,
     "metadata": {},
     "output_type": "execute_result"
    }
   ],
   "source": [
    "# 国土数値情報のzipファイルのURLを取得（return: pd.DataFrame）\n",
    "urls = ksj.get_url(identifier=\"N03\", pref_code='11-14', fiscal_year=2019)\n",
    "urls.head()"
   ]
  },
  {
   "cell_type": "markdown",
   "metadata": {},
   "source": [
    "## ファイルの読み込み\n",
    "\n",
    "`ksj.get_shp()`にURLとファイルの保存先を指定することでシェープファイルをダウンロードします。\n",
    "\n",
    "`ksj.read_shp()`にURLを渡した場合、ダウンロードしたあと解凍してgeopandasで読み込みます。\n"
   ]
  },
  {
   "cell_type": "code",
   "execution_count": 8,
   "metadata": {},
   "outputs": [
    {
     "data": {
      "text/html": "<div>\n<style scoped>\n    .dataframe tbody tr th:only-of-type {\n        vertical-align: middle;\n    }\n\n    .dataframe tbody tr th {\n        vertical-align: top;\n    }\n\n    .dataframe thead th {\n        text-align: right;\n    }\n</style>\n<table border=\"1\" class=\"dataframe\">\n  <thead>\n    <tr style=\"text-align: right;\">\n      <th></th>\n      <th>N03_001</th>\n      <th>N03_002</th>\n      <th>N03_003</th>\n      <th>N03_004</th>\n      <th>N03_007</th>\n      <th>geometry</th>\n    </tr>\n  </thead>\n  <tbody>\n    <tr>\n      <th>0</th>\n      <td>埼玉県</td>\n      <td>None</td>\n      <td>さいたま市</td>\n      <td>西区</td>\n      <td>11101</td>\n      <td>POLYGON ((139.54776 35.93420, 139.54720 35.934...</td>\n    </tr>\n    <tr>\n      <th>1</th>\n      <td>埼玉県</td>\n      <td>None</td>\n      <td>さいたま市</td>\n      <td>西区</td>\n      <td>11101</td>\n      <td>POLYGON ((139.54776 35.93420, 139.54804 35.934...</td>\n    </tr>\n    <tr>\n      <th>2</th>\n      <td>埼玉県</td>\n      <td>None</td>\n      <td>さいたま市</td>\n      <td>北区</td>\n      <td>11102</td>\n      <td>POLYGON ((139.61753 35.96486, 139.61798 35.964...</td>\n    </tr>\n    <tr>\n      <th>3</th>\n      <td>埼玉県</td>\n      <td>None</td>\n      <td>さいたま市</td>\n      <td>大宮区</td>\n      <td>11103</td>\n      <td>POLYGON ((139.63768 35.92278, 139.63804 35.922...</td>\n    </tr>\n    <tr>\n      <th>4</th>\n      <td>埼玉県</td>\n      <td>None</td>\n      <td>さいたま市</td>\n      <td>見沼区</td>\n      <td>11104</td>\n      <td>POLYGON ((139.66718 35.96444, 139.66739 35.964...</td>\n    </tr>\n  </tbody>\n</table>\n</div>",
      "text/plain": "  N03_001 N03_002 N03_003 N03_004 N03_007  \\\n0     埼玉県    None   さいたま市      西区   11101   \n1     埼玉県    None   さいたま市      西区   11101   \n2     埼玉県    None   さいたま市      北区   11102   \n3     埼玉県    None   さいたま市     大宮区   11103   \n4     埼玉県    None   さいたま市     見沼区   11104   \n\n                                            geometry  \n0  POLYGON ((139.54776 35.93420, 139.54720 35.934...  \n1  POLYGON ((139.54776 35.93420, 139.54804 35.934...  \n2  POLYGON ((139.61753 35.96486, 139.61798 35.964...  \n3  POLYGON ((139.63768 35.92278, 139.63804 35.922...  \n4  POLYGON ((139.66718 35.96444, 139.66739 35.964...  "
     },
     "execution_count": 8,
     "metadata": {},
     "output_type": "execute_result"
    }
   ],
   "source": [
    "# ファイルを一時フォルダにダウンロードし、解凍してgeopandasで読み込む\n",
    "url = urls[\"zipFileUrl\"][0]\n",
    "shape_gdf = ksj.read_shp(url)\n",
    "shape_gdf.head()"
   ]
  },
  {
   "cell_type": "markdown",
   "metadata": {},
   "source": [
    "## 列名の変換\n",
    "\n",
    "簡単に自動変換できる列名（年度によって意味が変わることのない列）に限り、列名を日本語に変換します。\n",
    "\n"
   ]
  },
  {
   "cell_type": "code",
   "execution_count": 9,
   "metadata": {},
   "outputs": [
    {
     "data": {
      "text/html": "<div>\n<style scoped>\n    .dataframe tbody tr th:only-of-type {\n        vertical-align: middle;\n    }\n\n    .dataframe tbody tr th {\n        vertical-align: top;\n    }\n\n    .dataframe thead th {\n        text-align: right;\n    }\n</style>\n<table border=\"1\" class=\"dataframe\">\n  <thead>\n    <tr style=\"text-align: right;\">\n      <th></th>\n      <th>都道府県名</th>\n      <th>支庁名</th>\n      <th>郡政令都市</th>\n      <th>市区町村名</th>\n      <th>行政区域コード</th>\n      <th>geometry</th>\n    </tr>\n  </thead>\n  <tbody>\n    <tr>\n      <th>0</th>\n      <td>埼玉県</td>\n      <td>None</td>\n      <td>さいたま市</td>\n      <td>西区</td>\n      <td>11101</td>\n      <td>POLYGON ((139.54776 35.93420, 139.54720 35.934...</td>\n    </tr>\n    <tr>\n      <th>1</th>\n      <td>埼玉県</td>\n      <td>None</td>\n      <td>さいたま市</td>\n      <td>西区</td>\n      <td>11101</td>\n      <td>POLYGON ((139.54776 35.93420, 139.54804 35.934...</td>\n    </tr>\n    <tr>\n      <th>2</th>\n      <td>埼玉県</td>\n      <td>None</td>\n      <td>さいたま市</td>\n      <td>北区</td>\n      <td>11102</td>\n      <td>POLYGON ((139.61753 35.96486, 139.61798 35.964...</td>\n    </tr>\n    <tr>\n      <th>3</th>\n      <td>埼玉県</td>\n      <td>None</td>\n      <td>さいたま市</td>\n      <td>大宮区</td>\n      <td>11103</td>\n      <td>POLYGON ((139.63768 35.92278, 139.63804 35.922...</td>\n    </tr>\n    <tr>\n      <th>4</th>\n      <td>埼玉県</td>\n      <td>None</td>\n      <td>さいたま市</td>\n      <td>見沼区</td>\n      <td>11104</td>\n      <td>POLYGON ((139.66718 35.96444, 139.66739 35.964...</td>\n    </tr>\n  </tbody>\n</table>\n</div>",
      "text/plain": "  都道府県名   支庁名  郡政令都市 市区町村名 行政区域コード  \\\n0   埼玉県  None  さいたま市    西区   11101   \n1   埼玉県  None  さいたま市    西区   11101   \n2   埼玉県  None  さいたま市    北区   11102   \n3   埼玉県  None  さいたま市   大宮区   11103   \n4   埼玉県  None  さいたま市   見沼区   11104   \n\n                                            geometry  \n0  POLYGON ((139.54776 35.93420, 139.54720 35.934...  \n1  POLYGON ((139.54776 35.93420, 139.54804 35.934...  \n2  POLYGON ((139.61753 35.96486, 139.61798 35.964...  \n3  POLYGON ((139.63768 35.92278, 139.63804 35.922...  \n4  POLYGON ((139.66718 35.96444, 139.66739 35.964...  "
     },
     "execution_count": 9,
     "metadata": {},
     "output_type": "execute_result"
    }
   ],
   "source": [
    "# 列名を日本語に変換\n",
    "shape_gdf = ksj.translate(shape_gdf)\n",
    "shape_gdf.head()"
   ]
  },
  {
   "cell_type": "markdown",
   "metadata": {},
   "source": [
    "## 列名対応表のダウンロード\n",
    "\n",
    "国土数値情報から列名の対応表をダウンロードし、pandasで開きます。"
   ]
  },
  {
   "cell_type": "code",
   "execution_count": 6,
   "metadata": {},
   "outputs": [
    {
     "data": {
      "text/html": "<div>\n<style scoped>\n    .dataframe tbody tr th:only-of-type {\n        vertical-align: middle;\n    }\n\n    .dataframe tbody tr th {\n        vertical-align: top;\n    }\n\n    .dataframe thead th {\n        text-align: right;\n    }\n</style>\n<table border=\"1\" class=\"dataframe\">\n  <thead>\n    <tr style=\"text-align: right;\">\n      <th></th>\n      <th>識別子</th>\n      <th>データ項目</th>\n      <th>タグ名</th>\n      <th>対応番号</th>\n      <th>属性名</th>\n      <th></th>\n    </tr>\n  </thead>\n  <tbody>\n    <tr>\n      <th>59</th>\n      <td>N03</td>\n      <td>行政区域</td>\n      <td>AdministrativeBoundary</td>\n      <td>N03_001</td>\n      <td>都道府県名</td>\n      <td>NaN</td>\n    </tr>\n    <tr>\n      <th>60</th>\n      <td>N03</td>\n      <td>行政区域</td>\n      <td>AdministrativeBoundary</td>\n      <td>N03_002</td>\n      <td>支庁名</td>\n      <td>NaN</td>\n    </tr>\n    <tr>\n      <th>61</th>\n      <td>N03</td>\n      <td>行政区域</td>\n      <td>AdministrativeBoundary</td>\n      <td>N03_003</td>\n      <td>郡政令都市</td>\n      <td>NaN</td>\n    </tr>\n    <tr>\n      <th>62</th>\n      <td>N03</td>\n      <td>行政区域</td>\n      <td>AdministrativeBoundary</td>\n      <td>N03_004</td>\n      <td>市区町村名</td>\n      <td>NaN</td>\n    </tr>\n    <tr>\n      <th>63</th>\n      <td>N03</td>\n      <td>行政区域</td>\n      <td>AdministrativeBoundary</td>\n      <td>N03_005</td>\n      <td>成立年月日</td>\n      <td>NaN</td>\n    </tr>\n    <tr>\n      <th>64</th>\n      <td>N03</td>\n      <td>行政区域</td>\n      <td>AdministrativeBoundary</td>\n      <td>N03_006</td>\n      <td>消滅年月日</td>\n      <td>NaN</td>\n    </tr>\n    <tr>\n      <th>65</th>\n      <td>N03</td>\n      <td>行政区域</td>\n      <td>AdministrativeBoundary</td>\n      <td>N03_007</td>\n      <td>行政区域コード</td>\n      <td>NaN</td>\n    </tr>\n  </tbody>\n</table>\n</div>",
      "text/plain": "    識別子 データ項目                     タグ名     対応番号      属性名     \n59  N03  行政区域  AdministrativeBoundary  N03_001    都道府県名  NaN\n60  N03  行政区域  AdministrativeBoundary  N03_002      支庁名  NaN\n61  N03  行政区域  AdministrativeBoundary  N03_003    郡政令都市  NaN\n62  N03  行政区域  AdministrativeBoundary  N03_004    市区町村名  NaN\n63  N03  行政区域  AdministrativeBoundary  N03_005    成立年月日  NaN\n64  N03  行政区域  AdministrativeBoundary  N03_006    消滅年月日  NaN\n65  N03  行政区域  AdministrativeBoundary  N03_007  行政区域コード  NaN"
     },
     "execution_count": 6,
     "metadata": {},
     "output_type": "execute_result"
    }
   ],
   "source": [
    "# 列名の対応表をダウンロードして開く\n",
    "book = ksj.get_column_table()\n",
    "book.query(\"識別子 == 'N03'\")"
   ]
  },
  {
   "cell_type": "code",
   "execution_count": null,
   "metadata": {},
   "outputs": [],
   "source": []
  }
 ],
 "metadata": {
  "kernelspec": {
   "display_name": "Python 3",
   "language": "python",
   "name": "python3"
  },
  "language_info": {
   "codemirror_mode": {
    "name": "ipython",
    "version": 3
   },
   "file_extension": ".py",
   "mimetype": "text/x-python",
   "name": "python",
   "nbconvert_exporter": "python",
   "pygments_lexer": "ipython3",
   "version": "3.6.8"
  }
 },
 "nbformat": 4,
 "nbformat_minor": 4
}